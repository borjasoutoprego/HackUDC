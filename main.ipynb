{
 "cells": [
  {
   "cell_type": "code",
   "execution_count": 10,
   "id": "65805cac",
   "metadata": {},
   "outputs": [],
   "source": [
    "import numpy as np\n",
    "import json\n",
    "import pandas as pd\n",
    "from datetime import datetime\n",
    "import seaborn as sns\n",
    "import matplotlib.pyplot as plt\n",
    "\n",
    "df = pd.read_csv(\"playas.csv\")"
   ]
  },
  {
   "cell_type": "code",
   "execution_count": 18,
   "id": "9fb60c47",
   "metadata": {},
   "outputs": [
    {
     "name": "stdout",
     "output_type": "stream",
     "text": [
      "        X        Y  OBJECTID            Comunidad_         Provincia Isla  \\\n",
      "0 -4.8867  36.5066         1             Andalucía            Málaga        \n",
      "1 -4.7601  36.4865         2             Andalucía            Málaga        \n",
      "2 -4.7112  36.4877         3             Andalucía            Málaga        \n",
      "3 -4.6456  36.5072         4             Andalucía            Málaga        \n",
      "4 -0.0447  38.6024         5  Comunitat Valenciana  Alicante/Alacant        \n",
      "\n",
      "   Código_IN Término_M              Web_munici  Identifica  ...  \\\n",
      "0      29069  Marbella  http://www.marbella.es         316  ...   \n",
      "1      29069  Marbella  http://www.marbella.es         318  ...   \n",
      "2      29070     Mijas     http://www.mijas.es         330  ...   \n",
      "3      29070     Mijas     http://www.mijas.es      402904  ...   \n",
      "4       3018     Altea     http://www.altea.es      450301  ...   \n",
      "\n",
      "                            Dirección  Teléfono_ Distancia1  \\\n",
      "0            A-7 Km. 186,7 (Marbella)  951976669      6 km.   \n",
      "1            A-7 Km. 186,7 (Marbella)  951976669      7 km.   \n",
      "2            A-7 Km. 186,7 (Marbella)  951976669     10 km.   \n",
      "3            A-7 Km. 186,7 (Marbella)  951976669     18 km.   \n",
      "4  Doctor Ramón y Cajal, 7 (Benidorm)  966878787     11 km.   \n",
      "\n",
      "              Composici  Fachada_Li Espacio_pr  \\\n",
      "0                 Arena      Urbana         No   \n",
      "1         Arena / Grava      Urbana         No   \n",
      "2  Arena / Roca / Grava      Urbana         Sí   \n",
      "3          Arena / Roca  Semiurbana         Sí   \n",
      "4         Bolos / Grava      Urbana         No   \n",
      "\n",
      "                                          Espacio__1 Coordena_4 Coordena_5  \\\n",
      "0                                                       -4.8867    36.5066   \n",
      "1                                                       -4.7601    36.4865   \n",
      "2  Zona de Especial Conservación Calahonda (ES617...    -4.7112    36.4877   \n",
      "3  Zona de Especial Conservación Calahonda (ES617...    -4.6456    36.5072   \n",
      "4                                                       -0.0447    38.6024   \n",
      "\n",
      "                                          URL_MAGRAM  \n",
      "0  https://sig.miteco.gob.es/93/ClienteWS/Guia-Pl...  \n",
      "1  https://sig.miteco.gob.es/93/ClienteWS/Guia-Pl...  \n",
      "2  https://sig.miteco.gob.es/93/ClienteWS/Guia-Pl...  \n",
      "3  https://sig.miteco.gob.es/93/ClienteWS/Guia-Pl...  \n",
      "4  https://sig.miteco.gob.es/93/ClienteWS/Guia-Pl...  \n",
      "\n",
      "[5 rows x 80 columns]\n"
     ]
    }
   ],
   "source": [
    "print(df.head())"
   ]
  }
 ],
 "metadata": {
  "kernelspec": {
   "display_name": "Python 3 (ipykernel)",
   "language": "python",
   "name": "python3"
  },
  "language_info": {
   "codemirror_mode": {
    "name": "ipython",
    "version": 3
   },
   "file_extension": ".py",
   "mimetype": "text/x-python",
   "name": "python",
   "nbconvert_exporter": "python",
   "pygments_lexer": "ipython3",
   "version": "3.9.12"
  }
 },
 "nbformat": 4,
 "nbformat_minor": 5
}
