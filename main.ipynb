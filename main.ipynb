{
 "cells": [
  {
   "cell_type": "code",
   "execution_count": 47,
   "metadata": {},
   "outputs": [],
   "source": [
    "import numpy as np\n",
    "import json\n",
    "import pandas as pd\n",
    "from datetime import datetime\n",
    "import seaborn as sns\n",
    "import matplotlib.pyplot as plt\n",
    "\n",
    "df = pd.read_csv(\"playas.csv\")\n",
    "\n",
    "df = df[[\"Nombre\", \"Longitud\", \"Anchura\", \"Grado_ocup\", \"Condicione\", \"Nudismo\", \"Bandera_az\", \"Auxilio_y_\", \"Forma_de_a\", \"Acceso_dis\", \"Autobús\", \"Aseos\", \"Zona_infan\", \"Submarinis\", \"Coordena_2\", \"Coordena_3\", \"Composici\"]]"
   ]
  },
  {
   "cell_type": "code",
   "execution_count": 48,
   "metadata": {
    "scrolled": true
   },
   "outputs": [
    {
     "name": "stdout",
     "output_type": "stream",
     "text": [
      "       Nombre      Longitud           Anchura    Grado_ocup        Condicione  \\\n",
      "0    La Venus    650 metros         35 metros          Alto  Aguas tranquilas   \n",
      "1   Las Cañas  1.100 metros          6 metros         Medio   Oleaje moderado   \n",
      "2   Calahonda  3.500 metros  De 5 a 30 metros  Medio / Alto  Aguas tranquilas   \n",
      "3  El Charcón    800 metros         15 metros          Bajo  Aguas tranquilas   \n",
      "4    L'Espigó    600 metros         25 metros          Alto  Aguas tranquilas   \n",
      "\n",
      "   Nudismo Bandera_az Auxilio_y_           Forma_de_a Acceso_dis Autobús  \\\n",
      "0       No         No         Sí  A pie fácil / Coche         Sí      Sí   \n",
      "1       No         No         No  A pie fácil / Coche         No      Sí   \n",
      "2       No         Sí         Sí  A pie fácil / Coche         Sí      Sí   \n",
      "3  Parcial         No         Sí  A pie fácil / Coche         No      Sí   \n",
      "4       No         Sí         Sí  A pie fácil / Coche         Sí      Sí   \n",
      "\n",
      "  Aseos Zona_infan Submarinis          Coordena_2          Coordena_3  \\\n",
      "0    Sí         Sí         No  04º 53' 12,344'' W  36º 30' 23,999'' N   \n",
      "1    Sí         No         No    4º 45' 36,437\" W   36º 29' 11,401\" N   \n",
      "2    Sí         No         No  04º 42' 40,410'' W  36º 29' 16,003'' N   \n",
      "3    No         No         No     4º 38' 44,03\" W    36º 30' 26,09\" N   \n",
      "4    Sí         No         No   00º 02' 40,84'' W    38º 36' 8,77'' N   \n",
      "\n",
      "              Composici  \n",
      "0                 Arena  \n",
      "1         Arena / Grava  \n",
      "2  Arena / Roca / Grava  \n",
      "3          Arena / Roca  \n",
      "4         Bolos / Grava  \n"
     ]
    }
   ],
   "source": [
    "print(df.head())"
   ]
  },
  {
   "cell_type": "code",
   "execution_count": 49,
   "metadata": {
    "scrolled": true
   },
   "outputs": [
    {
     "name": "stdout",
     "output_type": "stream",
     "text": [
      "Nombre        object\n",
      "Longitud      object\n",
      "Anchura       object\n",
      "Grado_ocup    object\n",
      "Condicione    object\n",
      "Nudismo       object\n",
      "Bandera_az    object\n",
      "Auxilio_y_    object\n",
      "Forma_de_a    object\n",
      "Acceso_dis    object\n",
      "Autobús       object\n",
      "Aseos         object\n",
      "Zona_infan    object\n",
      "Submarinis    object\n",
      "Coordena_2    object\n",
      "Coordena_3    object\n",
      "Composici     object\n",
      "dtype: object\n"
     ]
    }
   ],
   "source": [
    "print(df.dtypes)"
   ]
  },
  {
   "cell_type": "code",
   "execution_count": 50,
   "metadata": {},
   "outputs": [],
   "source": [
    "df['Nombre'] = df['Nombre'].astype(str)\n",
    "df['Longitud'] = df['Longitud'].astype(str)\n",
    "df['Anchura'] = df['Anchura'].astype(str)\n",
    "df['Grado_ocup'] = df['Grado_ocup'].astype(str)\n",
    "df['Condicione'] = df['Condicione'].astype(str)\n",
    "df['Nudismo'] = df['Nudismo'].astype(str)\n",
    "df['Bandera_az'] = df['Bandera_az'].astype(str)\n",
    "df['Auxilio_y_'] = df['Auxilio_y_'].astype(str)\n",
    "df['Forma_de_a'] = df['Forma_de_a'].astype(str)\n",
    "df['Acceso_dis'] = df['Acceso_dis'].astype(str)\n",
    "df['Autobús'] = df['Autobús'].astype(str)\n",
    "df['Aseos'] = df['Aseos'].astype(str)\n",
    "df['Zona_infan'] = df['Zona_infan'].astype(str)\n",
    "df['Submarinis'] = df['Submarinis'].astype(str)\n",
    "df['Coordena_2'] = df['Coordena_2'].astype(str)\n",
    "df['Coordena_3'] = df['Coordena_3'].astype(str)\n",
    "df['Composici'] = df['Composici'].astype(str)"
   ]
  },
  {
   "cell_type": "code",
   "execution_count": 51,
   "metadata": {},
   "outputs": [
    {
     "data": {
      "text/plain": [
       "Nombre        0\n",
       "Longitud      0\n",
       "Anchura       0\n",
       "Grado_ocup    0\n",
       "Condicione    0\n",
       "Nudismo       0\n",
       "Bandera_az    0\n",
       "Auxilio_y_    0\n",
       "Forma_de_a    0\n",
       "Acceso_dis    0\n",
       "Autobús       0\n",
       "Aseos         0\n",
       "Zona_infan    0\n",
       "Submarinis    0\n",
       "Coordena_2    0\n",
       "Coordena_3    0\n",
       "Composici     0\n",
       "dtype: int64"
      ]
     },
     "execution_count": 51,
     "metadata": {},
     "output_type": "execute_result"
    }
   ],
   "source": [
    "for col in df.columns:\n",
    "    col = str(col)\n",
    "    if df[col].isnull().values.any():\n",
    "        print(col)\n",
    "    else:\n",
    "        pass    \n",
    "# No tenemos nulos\n",
    "df.isnull().sum()"
   ]
  },
  {
   "cell_type": "code",
   "execution_count": 53,
   "metadata": {},
   "outputs": [
    {
     "data": {
      "text/plain": [
       "0"
      ]
     },
     "execution_count": 53,
     "metadata": {},
     "output_type": "execute_result"
    }
   ],
   "source": [
    "df.duplicated(subset=['Coordena_2', 'Coordena_3']).sum()\n",
    "# no hay duplicados en las coordenadas"
   ]
  }
 ],
 "metadata": {
  "kernelspec": {
   "display_name": "Python 3",
   "language": "python",
   "name": "python3"
  },
  "language_info": {
   "codemirror_mode": {
    "name": "ipython",
    "version": 3
   },
   "file_extension": ".py",
   "mimetype": "text/x-python",
   "name": "python",
   "nbconvert_exporter": "python",
   "pygments_lexer": "ipython3",
   "version": "3.8.3"
  }
 },
 "nbformat": 4,
 "nbformat_minor": 5
}
