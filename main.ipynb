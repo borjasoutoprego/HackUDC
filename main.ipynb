{
 "cells": [
  {
   "cell_type": "code",
   "execution_count": 173,
   "id": "65805cac",
   "metadata": {},
   "outputs": [],
   "source": [
    "import numpy as np\n",
    "import json\n",
    "import pandas as pd\n",
    "from datetime import datetime\n",
    "import seaborn as sns\n",
    "import matplotlib.pyplot as plt\n",
    "\n",
    "df = pd.read_csv(\"playas.csv\")\n",
    "\n",
    "df = df[[\"Nombre\", \"Longitud\", \"Grado_ocup\", \"Condicione\", \"Nudismo\", \"Bandera_az\", \"Auxilio_y_\", \"Forma_de_a\", \"Acceso_dis\", \"Autobús\", \"Aseos\", \"Zona_infan\", \"Submarinis\", \"Coordena_2\", \"Coordena_3\", \"Composici\"]]"
   ]
  },
  {
   "cell_type": "code",
   "execution_count": 174,
   "id": "9fb60c47",
   "metadata": {},
   "outputs": [
    {
     "name": "stdout",
     "output_type": "stream",
     "text": [
      "       Nombre      Longitud    Grado_ocup        Condicione  Nudismo  \\\n",
      "0    La Venus    650 metros          Alto  Aguas tranquilas       No   \n",
      "1   Las Cañas  1.100 metros         Medio   Oleaje moderado       No   \n",
      "2   Calahonda  3.500 metros  Medio / Alto  Aguas tranquilas       No   \n",
      "3  El Charcón    800 metros          Bajo  Aguas tranquilas  Parcial   \n",
      "4    L'Espigó    600 metros          Alto  Aguas tranquilas       No   \n",
      "\n",
      "  Bandera_az Auxilio_y_           Forma_de_a Acceso_dis Autobús Aseos  \\\n",
      "0         No         Sí  A pie fácil / Coche         Sí      Sí    Sí   \n",
      "1         No         No  A pie fácil / Coche         No      Sí    Sí   \n",
      "2         Sí         Sí  A pie fácil / Coche         Sí      Sí    Sí   \n",
      "3         No         Sí  A pie fácil / Coche         No      Sí    No   \n",
      "4         Sí         Sí  A pie fácil / Coche         Sí      Sí    Sí   \n",
      "\n",
      "  Zona_infan Submarinis          Coordena_2          Coordena_3  \\\n",
      "0         Sí         No  04º 53' 12,344'' W  36º 30' 23,999'' N   \n",
      "1         No         No    4º 45' 36,437\" W   36º 29' 11,401\" N   \n",
      "2         No         No  04º 42' 40,410'' W  36º 29' 16,003'' N   \n",
      "3         No         No     4º 38' 44,03\" W    36º 30' 26,09\" N   \n",
      "4         No         No   00º 02' 40,84'' W    38º 36' 8,77'' N   \n",
      "\n",
      "              Composici  \n",
      "0                 Arena  \n",
      "1         Arena / Grava  \n",
      "2  Arena / Roca / Grava  \n",
      "3          Arena / Roca  \n",
      "4         Bolos / Grava  \n"
     ]
    }
   ],
   "source": [
    "print(df.head())"
   ]
  },
  {
   "cell_type": "code",
   "execution_count": 175,
   "id": "2a3efbe8",
   "metadata": {},
   "outputs": [
    {
     "name": "stdout",
     "output_type": "stream",
     "text": [
      "Nombre        object\n",
      "Longitud      object\n",
      "Grado_ocup    object\n",
      "Condicione    object\n",
      "Nudismo       object\n",
      "Bandera_az    object\n",
      "Auxilio_y_    object\n",
      "Forma_de_a    object\n",
      "Acceso_dis    object\n",
      "Autobús       object\n",
      "Aseos         object\n",
      "Zona_infan    object\n",
      "Submarinis    object\n",
      "Coordena_2    object\n",
      "Coordena_3    object\n",
      "Composici     object\n",
      "dtype: object\n"
     ]
    }
   ],
   "source": [
    "print(df.dtypes)"
   ]
  },
  {
   "cell_type": "code",
   "execution_count": 176,
   "id": "4958d283",
   "metadata": {},
   "outputs": [
    {
     "data": {
      "text/plain": [
       "Nombre        0\n",
       "Longitud      0\n",
       "Grado_ocup    0\n",
       "Condicione    0\n",
       "Nudismo       0\n",
       "Bandera_az    0\n",
       "Auxilio_y_    0\n",
       "Forma_de_a    0\n",
       "Acceso_dis    0\n",
       "Autobús       0\n",
       "Aseos         0\n",
       "Zona_infan    0\n",
       "Submarinis    0\n",
       "Coordena_2    0\n",
       "Coordena_3    0\n",
       "Composici     0\n",
       "dtype: int64"
      ]
     },
     "execution_count": 176,
     "metadata": {},
     "output_type": "execute_result"
    }
   ],
   "source": [
    "# No tenemos nulos\n",
    "df.isnull().sum()"
   ]
  },
  {
   "cell_type": "code",
   "execution_count": 177,
   "id": "7b490bae",
   "metadata": {},
   "outputs": [
    {
     "data": {
      "text/plain": [
       "0"
      ]
     },
     "execution_count": 177,
     "metadata": {},
     "output_type": "execute_result"
    }
   ],
   "source": [
    "df.duplicated(subset=['Coordena_2', 'Coordena_3']).sum()\n",
    "# no hay duplicados en las coordenadas"
   ]
  },
  {
   "cell_type": "code",
   "execution_count": 178,
   "id": "47fabfca",
   "metadata": {},
   "outputs": [],
   "source": [
    "for i in range(len(df['Longitud'])) :\n",
    "    df['Longitud'][i] = df['Longitud'][i].split(' ')[0]\n",
    "    df['Longitud'][i] = df['Longitud'][i].replace('.', '')\n",
    "    if len(df['Longitud'][i].split('-')) == 2:\n",
    "        df['Longitud'][i] = int(df['Longitud'][i].split('-')[0] + df['Longitud'][i].split('-')[1]) / 2\n",
    "df['Longitud'] = df['Longitud'].astype(int)\n"
   ]
  },
  {
   "cell_type": "code",
   "execution_count": 179,
   "id": "de2144f7",
   "metadata": {},
   "outputs": [],
   "source": [
    "def menu():\n",
    "    print(\"Actividades dispoñíbeis: \")\n",
    "    print(\"1: Tomar o sol/n2: Nadar/n3: Surf/n4: Pasear/n5: Nudismo\")\n",
    "    choice = input(\"Escolla a súa actividade: \")\n",
    "    return choice\n",
    "\n",
    "def filtrado():\n",
    "    choice = int(menu())\n",
    "    if choice == 1:\n",
    "        df1 = df[df['Composici'] == 'Arena']\n",
    "        df1 = df1[df1['Bandera_az'] == 'Sí']\n",
    "    elif choice == 2:\n",
    "        df1 = df[df['Condicione'] == 'Aguas tranquilas'] ### Pendentes de Carlos\n",
    "        df1 = df1[(df1['Grado_ocup'] != 'Alto')]  # Revisar a ineficiencia\n",
    "        df1 = df1[df1['Grado_ocup'] != 'Medio / Alto']\n",
    "    elif choice == 3:\n",
    "        df1 = df[df['Condicione'] != 'Aguas tranquilas'] ### Pendentes de Carlos\n",
    "        df1 = df1[df1['Grado_ocup'] != 'Alto'] # Revisar a ineficiencia\n",
    "        df1 = df1[df1['Grado_ocup'] != 'Medio / Alto']\n",
    "        df1 = df1[df1['Forma_de_a'] != 'A pie difícil']\n",
    "    elif choice == 4:\n",
    "        df1 = df[df['Composici'] == 'Arena']\n",
    "        df1 = df1[df1['Bandera_az'] == 'Sí']\n",
    "        df1 = df1[df1['Longitud'] >= 300]\n",
    "    elif choice == 5:\n",
    "        df1 = df[df['Nudismo'] != 'No']\n",
    "\n",
    "    print(df1.head())\n",
    "        \n"
   ]
  },
  {
   "cell_type": "code",
   "execution_count": 180,
   "id": "2d16127f",
   "metadata": {},
   "outputs": [
    {
     "name": "stdout",
     "output_type": "stream",
     "text": [
      "Actividades dispoñíbeis: \n",
      "1: Tomar o sol/n2: Nadar/n3: Surf/n4: Pasear/n5: Nudismo\n",
      "                         Nombre  Longitud Grado_ocup  \\\n",
      "1                     Las Cañas      1100      Medio   \n",
      "6                       Urbasur      1100      Medio   \n",
      "8                Las Amoladeras      3750       Bajo   \n",
      "10  Las Salinas de Cabo de Gata      2500      Medio   \n",
      "16                  Torregarcía      1800       Bajo   \n",
      "\n",
      "                   Condicione Nudismo Bandera_az Auxilio_y_  \\\n",
      "1             Oleaje moderado      No         No         No   \n",
      "6             Oleaje moderado      No         No         Sí   \n",
      "8   Oleaje moderado / Ventosa      No         No         No   \n",
      "10  Oleaje moderado / Ventosa      No         No         No   \n",
      "16  Oleaje moderado / Ventosa      No         No         No   \n",
      "\n",
      "             Forma_de_a Acceso_dis Autobús Aseos Zona_infan Submarinis  \\\n",
      "1   A pie fácil / Coche         No      Sí    Sí         No         No   \n",
      "6           A pie fácil         Sí      Sí    Sí         No         No   \n",
      "8                 Coche         No      Sí    No         No         No   \n",
      "10                Coche         No      Sí    No         No         No   \n",
      "16                Coche         No      Sí    No         No         No   \n",
      "\n",
      "            Coordena_2          Coordena_3      Composici  \n",
      "1     4º 45' 36,437\" W   36º 29' 11,401\" N  Arena / Grava  \n",
      "6   07º 14' 52,366'' W  37º 12' 12,552'' N          Arena  \n",
      "8   02º 16' 42,050'' W  36º 48' 41,983'' N  Arena / Grava  \n",
      "10  02º 13' 53,895'' W  36º 45' 57,434'' N          Arena  \n",
      "16  02º 18' 00,037'' W  36º 49' 29,733'' N  Arena / Grava  \n"
     ]
    }
   ],
   "source": [
    "filtrado()"
   ]
  }
 ],
 "metadata": {
  "kernelspec": {
   "display_name": "Python 3",
   "language": "python",
   "name": "python3"
  },
  "language_info": {
   "codemirror_mode": {
    "name": "ipython",
    "version": 3
   },
   "file_extension": ".py",
   "mimetype": "text/x-python",
   "name": "python",
   "nbconvert_exporter": "python",
   "pygments_lexer": "ipython3",
   "version": "3.9.7"
  },
  "vscode": {
   "interpreter": {
    "hash": "b412e99ba823c204c8f883f7206a4ecce87ab5498a5bff6cdc91e2dd0706527e"
   }
  }
 },
 "nbformat": 4,
 "nbformat_minor": 5
}
